{
 "cells": [
  {
   "cell_type": "markdown",
   "id": "edcc62d3-0a55-4b0e-8c70-7a3b0ccaeb66",
   "metadata": {},
   "source": [
    "# Part 1: Data importing and preprocessing"
   ]
  },
  {
   "cell_type": "code",
   "execution_count": null,
   "id": "c5fa0b6a-f484-46e7-bd30-be5887aa9e13",
   "metadata": {},
   "outputs": [],
   "source": [
    "# Imports\n",
    "import pandas as pd\n",
    "import seaborn as sns\n",
    "import numpy as np\n",
    "import matplotlib.pyplot as plt\n",
    "import statsmodels.api as sm\n",
    "\n",
    "import warnings\n",
    "warnings.filterwarnings('ignore')"
   ]
  },
  {
   "cell_type": "code",
   "execution_count": null,
   "id": "2b534c4b-85d8-4e0f-a050-e3865d5e80d2",
   "metadata": {},
   "outputs": [],
   "source": [
    "# Read in file\n",
    "house_df = pd.read_csv(\"Data/house_sales.csv\")\n",
    "house_df.head()"
   ]
  },
  {
   "cell_type": "code",
   "execution_count": null,
   "id": "6674acb6-60b2-4299-ba9c-8196135613f4",
   "metadata": {},
   "outputs": [],
   "source": [
    "# Determine null values\n",
    "house_df.isnull().sum()"
   ]
  },
  {
   "cell_type": "markdown",
   "id": "1266d7b5-0c6c-4777-a593-0ed2d064a4d2",
   "metadata": {},
   "source": [
    "### Missing values for sqft_living"
   ]
  },
  {
   "cell_type": "code",
   "execution_count": null,
   "id": "715a63d6-e6a7-43b6-98d2-f4ea931de30c",
   "metadata": {},
   "outputs": [],
   "source": [
    "# Fill missing values for sqft_living\n",
    "house_df['sqft_living'] = house_df['sqft_living'].fillna(house_df['sqft_above'] + house_df['sqft_basement'])\n",
    "\n",
    "# Check for missing values\n",
    "print(f\"sqft_living missing values: {house_df['sqft_living'].isnull().sum()}\")"
   ]
  },
  {
   "cell_type": "markdown",
   "id": "7fe15baf-22c5-498d-a50a-35e83079a627",
   "metadata": {},
   "source": [
    "### Missing values for bedrooms and bathrooms"
   ]
  },
  {
   "cell_type": "code",
   "execution_count": null,
   "id": "21056948-366c-4abc-a2ae-7680cee6e792",
   "metadata": {},
   "outputs": [],
   "source": [
    "# Use sqft_living bins to fill missing values for bedroom and bathroom\n",
    "bins = [0, 1000, 2000, 3000, 4000, 5000, 6000, float('inf')]\n",
    "labels = ['0-1000', '1000-2000', '2000-3000', '3000-4000', '4000-5000', '5000-6000', '6000+']\n",
    "house_df['sqft_bin'] = pd.cut(house_df['sqft_living'], bins=bins, labels=labels)"
   ]
  },
  {
   "cell_type": "code",
   "execution_count": null,
   "id": "c77ca280-0efd-43d6-b758-8dcd3be777ca",
   "metadata": {},
   "outputs": [],
   "source": [
    "# Drop rows with missing values in the relevant columns just for the calculation\n",
    "grouped_avgs = house_df.dropna(subset=['bedrooms', 'bathrooms']).groupby('sqft_bin')[['bedrooms', 'bathrooms']].mean().round()\n",
    "print(grouped_avgs)"
   ]
  },
  {
   "cell_type": "code",
   "execution_count": null,
   "id": "6f1bccd8-0cd2-4bfa-bf95-1b28357a2f4d",
   "metadata": {},
   "outputs": [],
   "source": [
    "# Create dictionaries from the grouped_avgs to map bins to fill missing values with\n",
    "bed_avg = grouped_avgs['bedrooms'].to_dict()\n",
    "bath_avg = grouped_avgs['bathrooms'].to_dict()\n",
    "\n",
    "# Fill missing values for bedrooms\n",
    "house_df.loc[house_df['bedrooms'].isna(), 'bedrooms'] = (\n",
    "    house_df.loc[house_df['bedrooms'].isna(), 'sqft_bin'].map(bed_avg))\n",
    "\n",
    "# Fill missing values for bathrooms\n",
    "house_df.loc[house_df['bathrooms'].isna(), 'bathrooms'] = (\n",
    "    house_df.loc[house_df['bathrooms'].isna(), 'sqft_bin'].map(bath_avg))"
   ]
  },
  {
   "cell_type": "code",
   "execution_count": null,
   "id": "7d87f178-3881-4343-b220-7392bb38d9f9",
   "metadata": {},
   "outputs": [],
   "source": [
    "# Check for missing values\n",
    "print(f\"bedrooms missing values: {house_df['bedrooms'].isnull().sum()}\")\n",
    "print(f\"bathrooms missing values: {house_df['bathrooms'].isnull().sum()}\")"
   ]
  },
  {
   "cell_type": "markdown",
   "id": "0b6a3b79-c64e-43e3-8240-380e4be4b05c",
   "metadata": {},
   "source": [
    "### Checking bedroom outliers"
   ]
  },
  {
   "cell_type": "code",
   "execution_count": null,
   "id": "54030833-f452-4a63-9f5f-ccf977180de6",
   "metadata": {},
   "outputs": [],
   "source": [
    "# Checking bedrooms for outliers\n",
    "print(f\"bedroom values: {sorted(house_df['bedrooms'].unique())}\")"
   ]
  },
  {
   "cell_type": "code",
   "execution_count": null,
   "id": "8de32a7e-d169-429e-99e8-1a11f8111942",
   "metadata": {},
   "outputs": [],
   "source": [
    "# Bedrooms boxplot\n",
    "sns.boxplot(house_df['bedrooms'])"
   ]
  },
  {
   "cell_type": "code",
   "execution_count": null,
   "id": "1059c4c4-9ea5-4114-9531-d1bac3b8372e",
   "metadata": {},
   "outputs": [],
   "source": [
    "# Count of how many homes have an outlier value of bedrooms\n",
    "print(f\"Over 10 bedrooms: {(house_df['bedrooms'] > 10).sum()}\")\n",
    "print(f\"10 bedrooms: {(house_df['bedrooms'] == 10).sum()}\")\n",
    "print(f\"9 bedrooms: {(house_df['bedrooms'] == 9).sum()}\")\n",
    "print(f\"8 bedrooms: {(house_df['bedrooms'] == 8).sum()}\")\n",
    "print(f\"7 bedrooms: {(house_df['bedrooms'] == 7).sum()}\")\n",
    "print(f\"6 bedrooms: {(house_df['bedrooms'] == 6).sum()}\")\n",
    "print(f\"1 bedrooms: {(house_df['bedrooms'] == 1).sum()}\")\n",
    "print(f\"0 bedrooms: {(house_df['bedrooms'] == 0).sum()}\")"
   ]
  },
  {
   "cell_type": "code",
   "execution_count": null,
   "id": "38bb89fd-5f4f-46e9-b0d0-9ca3f759304b",
   "metadata": {},
   "outputs": [],
   "source": [
    "# Drop outlier values of bedrooms (0, 7, 8, 9, 10, 33)\n",
    "bedroom_clean = house_df.drop(house_df[house_df['bedrooms'].isin([0, 7, 8, 9, 10, 33])].index)\n",
    "sorted(bedroom_clean['bedrooms'].unique())"
   ]
  },
  {
   "cell_type": "markdown",
   "id": "bf8e41cb-6d92-4997-b293-210b249f4c2d",
   "metadata": {},
   "source": [
    "### Checking bathroom outliers"
   ]
  },
  {
   "cell_type": "code",
   "execution_count": null,
   "id": "50bd3c67-528e-47aa-ac9a-d6e2260d3bff",
   "metadata": {},
   "outputs": [],
   "source": [
    "# Checking bathrooms for outliers\n",
    "print(f\"bathroom values: {sorted(bedroom_clean['bathrooms'].unique())}\")"
   ]
  },
  {
   "cell_type": "code",
   "execution_count": null,
   "id": "0d5fabcc-f769-4367-9b02-d3c486657ffd",
   "metadata": {},
   "outputs": [],
   "source": [
    "# Adjusting bathroom values to be whole or half (no 0.25 or 0.75 values)\n",
    "def clean_bathroom_value(x):\n",
    "    # 0.25 values will be rounded down to nearest whole value\n",
    "    decimal = x % 1\n",
    "    if decimal == 0.25: \n",
    "        return np.floor(x) # floor rounds down\n",
    "    # 0.75 values will be rounded up to nearest whole value\n",
    "    elif decimal == 0.75:\n",
    "        return np.ceil(x) # ceil rounds up\n",
    "    else:\n",
    "        return x\n",
    "\n",
    "# Apply function\n",
    "bedroom_clean['bathrooms'] = bedroom_clean['bathrooms'].apply(clean_bathroom_value)\n",
    "\n",
    "# Check if function worked\n",
    "print(f\"bathroom values: {sorted(bedroom_clean['bathrooms'].unique())}\")"
   ]
  },
  {
   "cell_type": "code",
   "execution_count": null,
   "id": "4fea2ce4-4c17-419f-9d3d-abe3e92619e3",
   "metadata": {},
   "outputs": [],
   "source": [
    "# Bathrooms boxplot\n",
    "sns.boxplot(bedroom_clean['bathrooms'])"
   ]
  },
  {
   "cell_type": "code",
   "execution_count": null,
   "id": "eb88b946-50c1-475d-b742-41ddbfc20379",
   "metadata": {},
   "outputs": [],
   "source": [
    "# Count of how many homes have an outlier value of bathrooms\n",
    "print(f\"More than 6 bathrooms: {(bedroom_clean['bathrooms'] > 6).sum()}\")\n",
    "print(f\"Less than 1 bathroom: {(bedroom_clean['bathrooms'] < 1).sum()}\")"
   ]
  },
  {
   "cell_type": "code",
   "execution_count": null,
   "id": "cb596daf-1d27-413a-8c46-d66c218d7494",
   "metadata": {},
   "outputs": [],
   "source": [
    "# Drop outlier values for bathrooms\n",
    "bathroom_clean = bedroom_clean[(bedroom_clean['bathrooms'] >= 1) & (bedroom_clean['bathrooms'] <= 6)]\n",
    "sorted(bathroom_clean['bathrooms'].unique())"
   ]
  },
  {
   "cell_type": "markdown",
   "id": "af4e7b1b-8282-4dc9-baa8-1e673917fff4",
   "metadata": {},
   "source": [
    "### Missing values for sqft_lot"
   ]
  },
  {
   "cell_type": "code",
   "execution_count": null,
   "id": "4e471425-7c49-40b4-bd87-129df571d342",
   "metadata": {},
   "outputs": [],
   "source": [
    "# Replace missing 'sqft_lot' values with the averaged 'sqft_lot15' values\n",
    "bathroom_clean['sqft_lot'] = bathroom_clean['sqft_lot'].fillna(bathroom_clean['sqft_lot15'])\n",
    "\n",
    "print(f\"sqft_lot missing values: {bathroom_clean['sqft_lot'].isnull().sum()}\")"
   ]
  },
  {
   "cell_type": "code",
   "execution_count": null,
   "id": "ecf73123-5515-4ffc-b18e-b51e08183a61",
   "metadata": {},
   "outputs": [],
   "source": [
    "# Ensure no other values in the df are null\n",
    "bathroom_clean.isnull().sum()"
   ]
  },
  {
   "cell_type": "markdown",
   "id": "d6bf8497-c872-400a-a1fd-8ba215ba10e6",
   "metadata": {},
   "source": [
    "### New dataframe with adjustments made"
   ]
  },
  {
   "cell_type": "code",
   "execution_count": null,
   "id": "d25fca8a-35b1-4dbc-a706-0462224f7e05",
   "metadata": {},
   "outputs": [],
   "source": [
    "# Create new clean house dataframe with changes made\n",
    "house_clean = bathroom_clean[['id', 'date', 'price', 'bedrooms', 'bathrooms', 'sqft_living', 'sqft_lot',\n",
    "                              'floors', 'waterfront', 'view', 'condition', 'grade', 'sqft_above', 'sqft_basement',\n",
    "                              'yr_built', 'yr_renovated', 'zipcode', 'lat', 'long']]"
   ]
  },
  {
   "cell_type": "code",
   "execution_count": null,
   "id": "d2f574e2-79e3-4737-aa1e-9c47deadcb95",
   "metadata": {},
   "outputs": [],
   "source": [
    "house_clean"
   ]
  },
  {
   "cell_type": "code",
   "execution_count": null,
   "id": "87e1c329-5572-4eab-8cea-75a8dfd7b5cc",
   "metadata": {},
   "outputs": [],
   "source": [
    "house_clean.info()"
   ]
  },
  {
   "cell_type": "code",
   "execution_count": null,
   "id": "5ac8791e-47c4-4fc9-994a-4432f81175ef",
   "metadata": {},
   "outputs": [],
   "source": [
    "# Convert date into datetime dtype\n",
    "house_clean['date'] = pd.to_datetime(house_clean['date'], format='%Y%m%dT%H%M%S')\n",
    "\n",
    "# Remove the hours, minutes, and second -- keep only year, month, day\n",
    "house_clean['date'] = house_clean['date'].dt.date"
   ]
  },
  {
   "cell_type": "code",
   "execution_count": null,
   "id": "22c305d4-cdb5-4b3e-8452-e52c172525e9",
   "metadata": {},
   "outputs": [],
   "source": [
    "# Convert bedrooms, sqft_living, and sqft_lot into int\n",
    "house_clean['bedrooms'] = house_clean['bedrooms'].astype('int64')\n",
    "house_clean['sqft_living'] = house_clean['sqft_living'].astype('int64')\n",
    "house_clean['sqft_lot'] = house_clean['sqft_lot'].astype('int64')"
   ]
  },
  {
   "cell_type": "code",
   "execution_count": null,
   "id": "3c693768-e726-4dd0-9383-97c02bae3c44",
   "metadata": {},
   "outputs": [],
   "source": [
    "# Run correlations\n",
    "house_w_basements = house_clean[(house_clean['sqft_basement'] > 0)] # Remove houses without basement\n",
    "house_corr = house_w_basements[['price', 'bedrooms', 'bathrooms', 'sqft_living',\n",
    "       'sqft_lot', 'floors', 'waterfront', 'view', 'condition', 'grade',\n",
    "       'sqft_above', 'sqft_basement']]\n",
    "house_corr.corr()"
   ]
  },
  {
   "cell_type": "code",
   "execution_count": null,
   "id": "19426f78-8f7b-4405-9c6c-50de1a930874",
   "metadata": {},
   "outputs": [],
   "source": [
    "# Import new dataframe into csv\n",
    "house_clean.to_csv('Data/house_updated.csv', index=False)"
   ]
  },
  {
   "cell_type": "markdown",
   "id": "bd1c16b9-70c1-4745-8c8a-961dce035e68",
   "metadata": {},
   "source": [
    "# Part 2: Data analysis and visualizations"
   ]
  },
  {
   "cell_type": "code",
   "execution_count": null,
   "id": "d7dddc17-2204-4cf4-93ad-40671c53d06a",
   "metadata": {},
   "outputs": [],
   "source": [
    "# Read in file\n",
    "house_updated_df = pd.read_csv(\"Data/house_updated.csv\")\n",
    "house_updated_df.head()"
   ]
  },
  {
   "cell_type": "code",
   "execution_count": null,
   "id": "bd7fa50b-991d-4518-8566-1220878f530c",
   "metadata": {},
   "outputs": [],
   "source": [
    "# Determine dtypes\n",
    "house_updated_df.dtypes"
   ]
  },
  {
   "cell_type": "markdown",
   "id": "fbea486d-152f-4ea2-8530-bac6c1dab720",
   "metadata": {},
   "source": [
    "Numerical Variables: id, price, bedrooms, bathrooms, sqft_living, sqft_lot, floors, sqft_above, sqft_basement, yr_built, yr_renovated, zipcode, lat, long\n",
    "Continous: price, sqft_living, floors, sqft_above, sqft_basement, lat, long\n",
    "Discrete: id, bedrooms, yr_built, yr_renovated, zipcode\n",
    "Categorical variables: waterfront , view, condition, zipcode\n",
    "Ordinal Variables: grade\n",
    "Date Variable: Date"
   ]
  },
  {
   "cell_type": "code",
   "execution_count": null,
   "id": "523ba19e-0039-46a8-87bc-5d7ae6b665eb",
   "metadata": {},
   "outputs": [],
   "source": [
    "# Create dateframe to show the dtype\n",
    "house_data = {\n",
    "    'Column': ['id', 'date', 'price', 'bedrooms', 'bathrooms', 'sqft_living', 'sqft_lot', 'floors', 'waterfront', 'view', 'condition', 'grade', 'sqft_above', 'sqft_basement', 'yr_built', 'yr_renovated', 'zipcode', 'lat', 'long', 'sqft_living15', 'sqft_lot15'],\n",
    "    'Type': ['Numerical - Discrete', 'Date', 'Numerical - Continuous', 'Numerical - Discrete', 'Numerical - Continuous', 'Numerical - Continuous', 'Numerical - Continuous', 'Numerical - Continuous', 'Categorical - Binary', 'Categorical - Binary', 'Categorical - Nominal',\n",
    "             'Ordinal - Ranked', 'Numerical - Continuous', 'Numerical - Continuous', 'Numerical - Discrete', 'Numerical -Discrete', 'Numerical/Categorical', 'Numerical - Continuous', 'Numerical - Continuous', 'Numerical - Continuous', 'Numerical - Continuous'],\n",
    "}\n",
    "house_data_variables_type_df = pd.DataFrame(house_data)\n",
    "house_data_variables_type_df"
   ]
  },
  {
   "cell_type": "code",
   "execution_count": null,
   "id": "c050205b-d1fb-4c89-a667-7c1446d28c96",
   "metadata": {},
   "outputs": [],
   "source": [
    "# Describe dataframe\n",
    "house_MC_df = house_updated_df.describe()\n",
    "house_MC_df"
   ]
  },
  {
   "cell_type": "code",
   "execution_count": null,
   "id": "0b9561a5-5cba-45b3-a5a1-b83f68669218",
   "metadata": {},
   "outputs": [],
   "source": [
    "# Measures of centrality: Price"
   ]
  },
  {
   "cell_type": "code",
   "execution_count": null,
   "id": "7e8d7dca-28fe-47cd-96db-4443f96a4a69",
   "metadata": {},
   "outputs": [],
   "source": [
    "# Measures of centrality: Bedrooms"
   ]
  },
  {
   "cell_type": "code",
   "execution_count": null,
   "id": "5fcd03c4-3356-488f-8e36-297d0610649f",
   "metadata": {},
   "outputs": [],
   "source": [
    "# Measures of centrality: Bathrooms"
   ]
  },
  {
   "cell_type": "code",
   "execution_count": null,
   "id": "c650fe77-1e54-4fee-8574-ebea0afe7884",
   "metadata": {},
   "outputs": [],
   "source": [
    "# Measures of centrality: SQFT_Living"
   ]
  },
  {
   "cell_type": "code",
   "execution_count": null,
   "id": "f9a70380-3e34-4edf-84a2-e801e671b841",
   "metadata": {},
   "outputs": [],
   "source": [
    "# Measures of centrality: SQFT_Lot"
   ]
  },
  {
   "cell_type": "code",
   "execution_count": null,
   "id": "a2362282-b85d-4d68-8e01-1db3e3b1567e",
   "metadata": {},
   "outputs": [],
   "source": [
    "# Measures of centrality: Floors"
   ]
  },
  {
   "cell_type": "code",
   "execution_count": null,
   "id": "edb66f96-0b75-4d8b-a9be-5929160e0a16",
   "metadata": {},
   "outputs": [],
   "source": [
    "# Measures of centrality: Condition"
   ]
  },
  {
   "cell_type": "code",
   "execution_count": null,
   "id": "7a07ab67-a84b-441b-8197-b23ca5544811",
   "metadata": {},
   "outputs": [],
   "source": [
    "# Measures of centrality: Grade"
   ]
  },
  {
   "cell_type": "code",
   "execution_count": null,
   "id": "8c6bd3da-3ca7-43a9-afab-f2e0f891d829",
   "metadata": {},
   "outputs": [],
   "source": [
    "# Measures of centrality: SQFT_Above"
   ]
  },
  {
   "cell_type": "code",
   "execution_count": null,
   "id": "0a5a9044-18ee-49d3-b53c-b26bac0e976d",
   "metadata": {},
   "outputs": [],
   "source": [
    "# Measures of centrality: SQFT_Basement"
   ]
  },
  {
   "cell_type": "code",
   "execution_count": null,
   "id": "4d2a34a5-c1e2-4fc7-a09f-11ae002ea800",
   "metadata": {},
   "outputs": [],
   "source": [
    "# Measures of centrality: Yr_Built"
   ]
  },
  {
   "cell_type": "code",
   "execution_count": null,
   "id": "986e566d-a2ff-48af-80fa-b7f519616f1a",
   "metadata": {},
   "outputs": [],
   "source": [
    "# Measures of centrality: Yr_Renovated"
   ]
  },
  {
   "cell_type": "code",
   "execution_count": null,
   "id": "906639c6-ed59-48fd-a17c-fbd9aebc572a",
   "metadata": {},
   "outputs": [],
   "source": [
    "# Combined measures"
   ]
  },
  {
   "cell_type": "code",
   "execution_count": null,
   "id": "7c4ee7d0-63c6-4b02-a743-20539667d8bc",
   "metadata": {},
   "outputs": [],
   "source": [
    "# Summary of measures"
   ]
  },
  {
   "cell_type": "code",
   "execution_count": null,
   "id": "9f3f23e4-f080-44dc-8020-4d585721c716",
   "metadata": {},
   "outputs": [],
   "source": [
    "# Histogram of price\n",
    "sns.histplot(house_updated_df['price'], kde = True, bins=60)\n",
    "plt.title('House Price Distributions')\n",
    "plt.xlabel('Price (In millions)')\n",
    "plt.ylabel('Count')\n",
    "plt.show()"
   ]
  },
  {
   "cell_type": "code",
   "execution_count": null,
   "id": "44f3d9bc-1061-49b7-9de4-1e387cb70b12",
   "metadata": {},
   "outputs": [],
   "source": [
    "# Boxplot of grade and price\n",
    "plt.figure(figsize = (10, 8))\n",
    "sns.boxplot(x = 'grade', y = 'price', data = house_updated_df)\n",
    "plt.title('Grade vs Price Boxplot')\n",
    "plt.xlabel('Grade of house denoted by a number (grade)')\n",
    "plt.ylabel('Price')\n",
    "plt.show()"
   ]
  },
  {
   "cell_type": "code",
   "execution_count": null,
   "id": "3249789f-d744-4e2d-8c95-6d8227f4f9b5",
   "metadata": {},
   "outputs": [],
   "source": [
    "# Boxplot og condition and price\n",
    "sns.boxplot(x = 'condition', y = 'price', data = house_updated_df)\n",
    "plt.title('Condition vs Price Boxplot')\n",
    "plt.xlabel('Condition of House (condition) ')\n",
    "plt.ylabel('Price')\n",
    "plt.show()"
   ]
  },
  {
   "cell_type": "code",
   "execution_count": null,
   "id": "e8daf2cf-6717-455e-b66d-1f6a2d18b89c",
   "metadata": {},
   "outputs": [],
   "source": [
    " # Histogram of yr_built\n",
    "sns.histplot(house_updated_df['yr_built'], kde = True, bins=50)\n",
    "plt.title('Distribution of the Year House was built')\n",
    "plt.xlabel('Year House was Built')\n",
    "plt.ylabel('Count')\n",
    "plt.show()"
   ]
  },
  {
   "cell_type": "code",
   "execution_count": null,
   "id": "1929686c-989c-49a6-9713-48b7ad2c2672",
   "metadata": {},
   "outputs": [],
   "source": [
    "# Scatterplot of sqft_living and price\n",
    "sns.scatterplot(x='sqft_living', y='price', data=house_updated_df)\n",
    "plt.xlabel('Living Area in square Feet (sqft_living)')\n",
    "plt.ylabel('Price of Home (price)')\n",
    "plt.title('Scatter Plot of Price vs. sqft_living')\n",
    "plt.show()"
   ]
  },
  {
   "cell_type": "code",
   "execution_count": null,
   "id": "1ae409b8-c290-43a9-9f2e-57eb0bcea320",
   "metadata": {},
   "outputs": [],
   "source": [
    "# Corr"
   ]
  },
  {
   "cell_type": "markdown",
   "id": "d9f388fa-8009-432e-8752-97a149ee9b0c",
   "metadata": {},
   "source": [
    "# Part 3: Data analytics"
   ]
  }
 ],
 "metadata": {
  "kernelspec": {
   "display_name": "Python 3 (ipykernel)",
   "language": "python",
   "name": "python3"
  },
  "language_info": {
   "codemirror_mode": {
    "name": "ipython",
    "version": 3
   },
   "file_extension": ".py",
   "mimetype": "text/x-python",
   "name": "python",
   "nbconvert_exporter": "python",
   "pygments_lexer": "ipython3",
   "version": "3.11.7"
  }
 },
 "nbformat": 4,
 "nbformat_minor": 5
}
