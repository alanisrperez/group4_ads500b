{
 "cells": [
  {
   "cell_type": "markdown",
   "id": "4f60ce30-9695-4e8b-bfdb-a773f53e41c6",
   "metadata": {},
   "source": [
    "# Working File - Alanis Perez"
   ]
  },
  {
   "cell_type": "code",
   "execution_count": null,
   "id": "e88f8b09-a295-414f-a8db-efb44fedfbd3",
   "metadata": {},
   "outputs": [],
   "source": []
  }
 ],
 "metadata": {
  "kernelspec": {
   "display_name": "Python 3 (ipykernel)",
   "language": "python",
   "name": "python3"
  },
  "language_info": {
   "codemirror_mode": {
    "name": "ipython",
    "version": 3
   },
   "file_extension": ".py",
   "mimetype": "text/x-python",
   "name": "python",
   "nbconvert_exporter": "python",
   "pygments_lexer": "ipython3",
   "version": "3.11.7"
  }
 },
 "nbformat": 4,
 "nbformat_minor": 5
}
